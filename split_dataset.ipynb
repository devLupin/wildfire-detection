{
 "cells": [
  {
   "cell_type": "code",
   "execution_count": 3,
   "metadata": {},
   "outputs": [],
   "source": [
    "from sklearn.model_selection import train_test_split\n",
    "import os\n",
    "import os.path as osp\n",
    "from shutil import copyfile\n",
    "from natsort import natsorted"
   ]
  },
  {
   "cell_type": "code",
   "execution_count": 4,
   "metadata": {},
   "outputs": [],
   "source": [
    "img_root = 'custom_dataset/images'\n",
    "label_root = 'custom_dataset/labels'"
   ]
  },
  {
   "cell_type": "code",
   "execution_count": 5,
   "metadata": {},
   "outputs": [],
   "source": [
    "img_li = os.listdir(img_root)\n",
    "img_li = natsorted(img_li)\n",
    "label_li = os.listdir(label_root)\n",
    "label_li = natsorted(label_li)"
   ]
  },
  {
   "cell_type": "code",
   "execution_count": 7,
   "metadata": {},
   "outputs": [],
   "source": [
    "X_train, X_test, y_train, y_test = train_test_split(img_li, label_li, test_size=0.15, random_state=42,shuffle=True)"
   ]
  },
  {
   "cell_type": "code",
   "execution_count": 8,
   "metadata": {},
   "outputs": [
    {
     "data": {
      "text/plain": [
       "('00000_Fire 1147.jpg', '00000_Fire 1147.txt')"
      ]
     },
     "execution_count": 8,
     "metadata": {},
     "output_type": "execute_result"
    }
   ],
   "source": [
    "X_train[0], y_train[0]"
   ]
  },
  {
   "cell_type": "code",
   "execution_count": 10,
   "metadata": {},
   "outputs": [],
   "source": [
    "dest_img_suffix = 'split_dataset/images'\n",
    "dest_label_suffix = 'split_dataset/labels'\n",
    "\n",
    "os.makedirs(osp.join(dest_img_suffix, 'train'))\n",
    "os.makedirs(osp.join(dest_img_suffix, 'val'))\n",
    "os.makedirs(osp.join(dest_label_suffix, 'train'))\n",
    "os.makedirs(osp.join(dest_label_suffix, 'val'))"
   ]
  },
  {
   "cell_type": "code",
   "execution_count": 11,
   "metadata": {},
   "outputs": [],
   "source": [
    "for i in range(len(X_train)):\n",
    "    img_src = osp.join(img_root, X_train[i])\n",
    "    label_src = osp.join(label_root, y_train[i])\n",
    "    \n",
    "    img_dest = osp.join(dest_img_suffix, 'train', X_train[i])\n",
    "    label_dest = osp.join(dest_label_suffix, 'train', y_train[i])\n",
    "    \n",
    "    copyfile(img_src, img_dest)\n",
    "    copyfile(label_src, label_dest)"
   ]
  },
  {
   "cell_type": "code",
   "execution_count": 12,
   "metadata": {},
   "outputs": [],
   "source": [
    "for i in range(len(X_test)):\n",
    "    img_src = osp.join(img_root, X_test[i])\n",
    "    label_src = osp.join(label_root, y_test[i])\n",
    "    \n",
    "    img_dest = osp.join(dest_img_suffix, 'val', X_test[i])\n",
    "    label_dest = osp.join(dest_label_suffix, 'val', y_test[i])\n",
    "    \n",
    "    copyfile(img_src, img_dest)\n",
    "    copyfile(label_src, label_dest)"
   ]
  },
  {
   "cell_type": "code",
   "execution_count": null,
   "metadata": {},
   "outputs": [],
   "source": []
  }
 ],
 "metadata": {
  "kernelspec": {
   "display_name": "yolov6",
   "language": "python",
   "name": "python3"
  },
  "language_info": {
   "codemirror_mode": {
    "name": "ipython",
    "version": 3
   },
   "file_extension": ".py",
   "mimetype": "text/x-python",
   "name": "python",
   "nbconvert_exporter": "python",
   "pygments_lexer": "ipython3",
   "version": "3.8.17"
  },
  "orig_nbformat": 4
 },
 "nbformat": 4,
 "nbformat_minor": 2
}
