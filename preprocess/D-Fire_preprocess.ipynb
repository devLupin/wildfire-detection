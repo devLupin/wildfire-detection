{
 "cells": [
  {
   "cell_type": "markdown",
   "metadata": {},
   "source": [
    "## [DFireDataset](https://github.com/gaiasd/DFireDataset)\n",
    "\n",
    "- number of images\n",
    "  - only fire : 1,164\n",
    "  - only smoke : 5,867\n",
    "  - fire and smoke : 4,658\n",
    "  - None : 9,838\n",
    "\n",
    "- number of bbox\n",
    "  - fire : 14,692\n",
    "  - smoke : 11,865"
   ]
  },
  {
   "cell_type": "code",
   "execution_count": 3,
   "metadata": {},
   "outputs": [],
   "source": [
    "import os\n",
    "import os.path as osp\n",
    "from natsort import natsorted"
   ]
  },
  {
   "cell_type": "code",
   "execution_count": 17,
   "metadata": {},
   "outputs": [],
   "source": [
    "### remove None images in train dataset\n",
    "\n",
    "images_prefix = 'train/images'\n",
    "labels_prefix = 'train/labels'\n",
    "\n",
    "labels_li = os.listdir(labels_prefix)\n",
    "labels_li = natsorted(labels_li)\n",
    "\n",
    "for label in labels_li:\n",
    "    label_path = osp.join(labels_prefix, label)\n",
    "    \n",
    "    f = open(label_path, 'r')\n",
    "    info = f.readlines()\n",
    "    f.close()\n",
    "    \n",
    "    if len(info) == 0:\n",
    "        img = label.split('.')[0] + '.jpg'\n",
    "        os.remove(osp.join(images_prefix, img))\n",
    "        os.remove(osp.join(labels_prefix, label))"
   ]
  },
  {
   "cell_type": "code",
   "execution_count": 18,
   "metadata": {},
   "outputs": [],
   "source": [
    "### remove None images in test dataset\n",
    "\n",
    "images_prefix = 'test/images'\n",
    "labels_prefix = 'test/labels'\n",
    "\n",
    "labels_li = os.listdir(labels_prefix)\n",
    "labels_li = natsorted(labels_li)\n",
    "\n",
    "for label in labels_li:\n",
    "    label_path = osp.join(labels_prefix, label)\n",
    "    \n",
    "    f = open(label_path, 'r')\n",
    "    info = f.readlines()\n",
    "    f.close()\n",
    "    \n",
    "    if len(info) == 0:\n",
    "        img = label.split('.')[0] + '.jpg'\n",
    "        os.remove(osp.join(images_prefix, img))\n",
    "        os.remove(osp.join(labels_prefix, label))"
   ]
  },
  {
   "cell_type": "code",
   "execution_count": null,
   "metadata": {},
   "outputs": [],
   "source": []
  }
 ],
 "metadata": {
  "kernelspec": {
   "display_name": "yolov8",
   "language": "python",
   "name": "python3"
  },
  "language_info": {
   "codemirror_mode": {
    "name": "ipython",
    "version": 3
   },
   "file_extension": ".py",
   "mimetype": "text/x-python",
   "name": "python",
   "nbconvert_exporter": "python",
   "pygments_lexer": "ipython3",
   "version": "3.8.17"
  },
  "orig_nbformat": 4
 },
 "nbformat": 4,
 "nbformat_minor": 2
}
