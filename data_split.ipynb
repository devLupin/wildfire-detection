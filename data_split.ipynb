{
 "cells": [
  {
   "cell_type": "code",
   "execution_count": 2,
   "metadata": {},
   "outputs": [],
   "source": [
    "import numpy as np\n",
    "from sklearn.model_selection import train_test_split\n",
    "import os\n",
    "import os.path as osp"
   ]
  },
  {
   "cell_type": "code",
   "execution_count": 4,
   "metadata": {},
   "outputs": [],
   "source": [
    "def split_dataset(prefix):\n",
    "    image_prefix = f'dataset/images/{prefix}'\n",
    "    label_prefix = f'dataset/labels/{prefix}'\n",
    "    \n",
    "    image_list = os.listdir(image_prefix)\n",
    "    label_list = os.listdir(label_prefix)\n",
    "    \n",
    "    for i in range(len(image_list)):\n",
    "        image_list[i] = osp.join(image_prefix, image_list[i])\n",
    "    for i in range(len(label_list)):\n",
    "        label_list[i] = osp.join(label_prefix, label_list[i])\n",
    "        \n",
    "    \n",
    "    X_train, X_test, y_train, y_test = train_test_split(image_list, label_list, test_size=0.2, random_state=42)\n",
    "    return X_train, X_test, y_train, y_test"
   ]
  },
  {
   "cell_type": "code",
   "execution_count": null,
   "metadata": {},
   "outputs": [],
   "source": [
    "X_train, X_test, y_train, y_test = split_dataset('flame')\n",
    "\n",
    "for i in range(len(X_train)):\n",
    "    src = X_train[i]\n",
    "    dest = "
   ]
  }
 ],
 "metadata": {
  "kernelspec": {
   "display_name": "wildfire",
   "language": "python",
   "name": "python3"
  },
  "language_info": {
   "codemirror_mode": {
    "name": "ipython",
    "version": 3
   },
   "file_extension": ".py",
   "mimetype": "text/x-python",
   "name": "python",
   "nbconvert_exporter": "python",
   "pygments_lexer": "ipython3",
   "version": "3.11.4"
  },
  "orig_nbformat": 4
 },
 "nbformat": 4,
 "nbformat_minor": 2
}
