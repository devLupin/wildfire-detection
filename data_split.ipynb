{
 "cells": [
  {
   "cell_type": "code",
   "execution_count": 1,
   "metadata": {},
   "outputs": [],
   "source": [
    "import numpy as np\n",
    "from sklearn.model_selection import train_test_split\n",
    "import os\n",
    "import os.path as osp\n",
    "from shutil import copyfile\n",
    "from tqdm import tqdm\n",
    "from natsort import natsorted"
   ]
  },
  {
   "cell_type": "code",
   "execution_count": 2,
   "metadata": {},
   "outputs": [],
   "source": [
    "def split_dataset(prefix):\n",
    "    image_prefix = f'dataset/images/{prefix}'\n",
    "    label_prefix = f'dataset/labels/{prefix}'\n",
    "    \n",
    "    image_list = os.listdir(image_prefix)\n",
    "    image_list = natsorted(image_list)\n",
    "    label_list = os.listdir(label_prefix)\n",
    "    label_list = natsorted(label_list)\n",
    "    \n",
    "    for i in range(len(image_list)):\n",
    "        image_list[i] = osp.join(image_prefix, image_list[i])\n",
    "    for i in range(len(label_list)):\n",
    "        label_list[i] = osp.join(label_prefix, label_list[i])\n",
    "        \n",
    "    \n",
    "    X_train, X_test, y_train, y_test = train_test_split(image_list, label_list, test_size=0.1, random_state=42)\n",
    "    return X_train, X_test, y_train, y_test"
   ]
  },
  {
   "cell_type": "code",
   "execution_count": 3,
   "metadata": {},
   "outputs": [],
   "source": [
    "os.makedirs('splited/train/images', exist_ok=True)\n",
    "os.makedirs('splited/train/labels', exist_ok=True)\n",
    "os.makedirs('splited/test/images', exist_ok=True)\n",
    "os.makedirs('splited/test/labels', exist_ok=True)"
   ]
  },
  {
   "cell_type": "code",
   "execution_count": 4,
   "metadata": {},
   "outputs": [
    {
     "name": "stderr",
     "output_type": "stream",
     "text": [
      "split train dataset: 100%|██████████| 4705/4705 [00:03<00:00, 1279.32it/s]\n",
      "split test dataset: 100%|██████████| 523/523 [00:00<00:00, 1348.32it/s]\n"
     ]
    }
   ],
   "source": [
    "X_train, X_test, y_train, y_test = split_dataset('flame')\n",
    "\n",
    "for i in tqdm(range(len(X_train)), desc='split train dataset'):\n",
    "    X_train_src = X_train[i]\n",
    "    y_train_src = y_train[i]\n",
    "    \n",
    "    copyfile(X_train_src, osp.join('splited/train/images', osp.basename(X_train_src)))\n",
    "    copyfile(y_train_src, osp.join('splited/train/labels', osp.basename(y_train_src)))\n",
    "    \n",
    "    \n",
    "for i in tqdm(range(len(X_test)), desc='split test dataset'):\n",
    "    X_test_src = X_test[i]\n",
    "    y_test_src = y_test[i]\n",
    "    \n",
    "    copyfile(X_test_src, osp.join('splited/test/images', osp.basename(X_test_src)))\n",
    "    copyfile(y_test_src, osp.join('splited/test/labels', osp.basename(y_test_src)))"
   ]
  },
  {
   "cell_type": "code",
   "execution_count": 5,
   "metadata": {},
   "outputs": [
    {
     "name": "stderr",
     "output_type": "stream",
     "text": [
      "split train dataset: 100%|██████████| 9147/9147 [00:50<00:00, 180.13it/s]\n",
      "split test dataset: 100%|██████████| 1017/1017 [00:05<00:00, 180.44it/s]\n"
     ]
    }
   ],
   "source": [
    "X_train, X_test, y_train, y_test = split_dataset('smoke')\n",
    "\n",
    "for i in tqdm(range(len(X_train)), desc='split train dataset'):\n",
    "    X_train_src = X_train[i]\n",
    "    y_train_src = y_train[i]\n",
    "    \n",
    "    copyfile(X_train_src, osp.join('splited/train/images', osp.basename(X_train_src)))\n",
    "    copyfile(y_train_src, osp.join('splited/train/labels', osp.basename(y_train_src)))\n",
    "    \n",
    "    \n",
    "for i in tqdm(range(len(X_test)), desc='split test dataset'):\n",
    "    X_test_src = X_test[i]\n",
    "    y_test_src = y_test[i]\n",
    "    \n",
    "    copyfile(X_test_src, osp.join('splited/test/images', osp.basename(X_test_src)))\n",
    "    copyfile(y_test_src, osp.join('splited/test/labels', osp.basename(y_test_src)))"
   ]
  },
  {
   "cell_type": "code",
   "execution_count": null,
   "metadata": {},
   "outputs": [],
   "source": []
  }
 ],
 "metadata": {
  "kernelspec": {
   "display_name": "wildfire",
   "language": "python",
   "name": "python3"
  },
  "language_info": {
   "codemirror_mode": {
    "name": "ipython",
    "version": 3
   },
   "file_extension": ".py",
   "mimetype": "text/x-python",
   "name": "python",
   "nbconvert_exporter": "python",
   "pygments_lexer": "ipython3",
   "version": "3.8.17"
  },
  "orig_nbformat": 4
 },
 "nbformat": 4,
 "nbformat_minor": 2
}
