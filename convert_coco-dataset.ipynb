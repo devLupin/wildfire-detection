{
 "cells": [
  {
   "cell_type": "code",
   "execution_count": 1,
   "metadata": {},
   "outputs": [],
   "source": [
    "from sahi.utils.coco import Coco, CocoCategory, CocoImage, CocoAnnotation\n",
    "from sahi.utils.file import save_json\n",
    "from PIL import Image\n",
    "import os\n",
    "import os.path as osp\n",
    "from natsort import natsorted\n",
    "from tqdm import tqdm"
   ]
  },
  {
   "cell_type": "code",
   "execution_count": 2,
   "metadata": {},
   "outputs": [],
   "source": [
    "save_root = 'COCO-format'\n",
    "os.makedirs(save_root, exist_ok=True)"
   ]
  },
  {
   "cell_type": "code",
   "execution_count": 3,
   "metadata": {},
   "outputs": [],
   "source": [
    "train_obj = Coco()\n",
    "\n",
    "train_obj.add_category(CocoCategory(id=0, name='flame'))\n",
    "train_obj.add_category(CocoCategory(id=1, name='smoke'))"
   ]
  },
  {
   "cell_type": "code",
   "execution_count": 4,
   "metadata": {},
   "outputs": [
    {
     "name": "stderr",
     "output_type": "stream",
     "text": [
      "make train-coco.....: 100%|██████████| 13852/13852 [00:03<00:00, 3936.54it/s]\n"
     ]
    }
   ],
   "source": [
    "X_train_prefix = 'splited/train/images'\n",
    "y_train_prefix = 'splited/train/labels'\n",
    "\n",
    "X_train_list = os.listdir(X_train_prefix)\n",
    "X_train_list = natsorted(X_train_list)\n",
    "y_train_list = os.listdir(y_train_prefix)\n",
    "y_train_list = natsorted(y_train_list)\n",
    "\n",
    "for i in tqdm(range(len(X_train_list)), desc='make train-coco.....'):\n",
    "    img = Image.open(osp.join(X_train_prefix, X_train_list[i]))\n",
    "    label = open(osp.join(y_train_prefix, y_train_list[i]), 'r')\n",
    "    \n",
    "    info = label.readline()\n",
    "    info = info[:-1].split(' ')\n",
    "    \n",
    "    width, height = img.size\n",
    "    \n",
    "    image = CocoImage(file_name=osp.join(X_train_prefix, X_train_list[i]), height=height, width=width)\n",
    "    image.add_annotation(\n",
    "        CocoAnnotation(\n",
    "        bbox=[float(info[1]), float(info[2]), float(info[3]), float(info[4])],\n",
    "        category_id=info[0],\n",
    "        category_name = \"flame\" if info[0] == 0 else \"smoke\" \n",
    "        )\n",
    "    )\n",
    "    \n",
    "    train_obj.add_image(image)\n",
    "    \n",
    "save_json(data=train_obj.json, save_path=osp.join(save_root, 'train.json'))"
   ]
  },
  {
   "cell_type": "code",
   "execution_count": 5,
   "metadata": {},
   "outputs": [],
   "source": [
    "test_obj = Coco()\n",
    "\n",
    "test_obj.add_category(CocoCategory(id=0, name='flame'))\n",
    "test_obj.add_category(CocoCategory(id=1, name='smoke'))"
   ]
  },
  {
   "cell_type": "code",
   "execution_count": 6,
   "metadata": {},
   "outputs": [
    {
     "name": "stderr",
     "output_type": "stream",
     "text": [
      "make test-coco.....: 100%|██████████| 1540/1540 [00:08<00:00, 182.10it/s]\n"
     ]
    }
   ],
   "source": [
    "X_test_prefix = 'splited/test/images'\n",
    "y_test_prefix = 'splited/test/labels'\n",
    "\n",
    "X_test_list = os.listdir(X_test_prefix)\n",
    "X_test_list = natsorted(X_test_list)\n",
    "y_test_list = os.listdir(y_test_prefix)\n",
    "y_test_list = natsorted(y_test_list)\n",
    "\n",
    "for i in tqdm(range(len(X_test_list)), desc='make test-coco.....'):\n",
    "    img = Image.open(osp.join(X_test_prefix, X_test_list[i]))\n",
    "    label = open(osp.join(y_test_prefix, y_test_list[i]), 'r')\n",
    "    \n",
    "    info = label.readline()\n",
    "    info = info[:-1].split(' ')\n",
    "    \n",
    "    width, height = img.size\n",
    "    \n",
    "    image = CocoImage(file_name=osp.join(X_test_prefix, X_test_list[i]), height=height, width=width)\n",
    "    image.add_annotation(\n",
    "        CocoAnnotation(\n",
    "        bbox=[float(info[1]), float(info[2]), float(info[3]), float(info[4])],\n",
    "        category_id=info[0],\n",
    "        category_name = \"flame\" if info[0] == 0 else \"smoke\" \n",
    "        )\n",
    "    )\n",
    "    \n",
    "    test_obj.add_image(image)\n",
    "    \n",
    "save_json(data=test_obj.json, save_path=osp.join(save_root, 'test.json'))"
   ]
  }
 ],
 "metadata": {
  "kernelspec": {
   "display_name": "openmmlab",
   "language": "python",
   "name": "python3"
  },
  "language_info": {
   "codemirror_mode": {
    "name": "ipython",
    "version": 3
   },
   "file_extension": ".py",
   "mimetype": "text/x-python",
   "name": "python",
   "nbconvert_exporter": "python",
   "pygments_lexer": "ipython3",
   "version": "3.8.17"
  },
  "orig_nbformat": 4
 },
 "nbformat": 4,
 "nbformat_minor": 2
}
