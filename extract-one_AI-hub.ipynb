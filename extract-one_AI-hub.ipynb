{
 "cells": [
  {
   "cell_type": "code",
   "execution_count": 2,
   "metadata": {},
   "outputs": [],
   "source": [
    "import os\n",
    "import os.path as osp\n",
    "import csv\n",
    "from PIL import Image, ImageDraw\n",
    "import matplotlib.pyplot as plt\n",
    "from natsort import natsorted\n",
    "from tqdm import tqdm\n",
    "from shutil import copyfile"
   ]
  },
  {
   "cell_type": "code",
   "execution_count": 3,
   "metadata": {},
   "outputs": [],
   "source": [
    "img_pre = 'images'\n",
    "label_pre = 'labels'"
   ]
  },
  {
   "cell_type": "code",
   "execution_count": 4,
   "metadata": {},
   "outputs": [],
   "source": [
    "X_train_path = osp.join('splited', 'train', img_pre)\n",
    "X_train_li = os.listdir(X_train_path)\n",
    "\n",
    "X_test_path = osp.join('splited', 'test', img_pre)\n",
    "X_test_li = os.listdir(X_test_path)"
   ]
  },
  {
   "cell_type": "code",
   "execution_count": 6,
   "metadata": {},
   "outputs": [
    {
     "name": "stdout",
     "output_type": "stream",
     "text": [
      "19\n"
     ]
    }
   ],
   "source": [
    "X_train = []\n",
    "tmp = '-1'\n",
    "\n",
    "for img in X_train_li:\n",
    "    if tmp == img.split('_')[0]:\n",
    "        continue\n",
    "    else:\n",
    "        X_train.append(img)\n",
    "        tmp = img.split('_')[0]"
   ]
  },
  {
   "cell_type": "code",
   "execution_count": 7,
   "metadata": {},
   "outputs": [
    {
     "name": "stdout",
     "output_type": "stream",
     "text": [
      "['0005_F0012.jpg', '0007_F0168.jpg', '0008_F0001.jpg', '0015_F1330.jpg', '0016_F0010.jpg', '0017_F0021.jpg', '0018_F0001.jpg', '0019_F0003.jpg', '0020_F0007.jpg', '0021_F0002.jpg', '0102_F0019.jpg', '0103_F0007.jpg', '0104_F0002.jpg', '0105_F0012.jpg', '0106_F0004.jpg', '0107_F0005.jpg', '0108_F0001.jpg', '0109_F0006.jpg', '0110_F0009.jpg']\n"
     ]
    }
   ],
   "source": [
    "X_test = []\n",
    "tmp = '-1'\n",
    "\n",
    "for img in X_test_li:\n",
    "    if tmp == img.split('_')[0]:\n",
    "        continue\n",
    "    else:\n",
    "        X_test.append(img)\n",
    "        tmp = img.split('_')[0]"
   ]
  },
  {
   "cell_type": "code",
   "execution_count": 8,
   "metadata": {},
   "outputs": [
    {
     "data": {
      "text/plain": [
       "['0005_F0012', 'jpg']"
      ]
     },
     "execution_count": 8,
     "metadata": {},
     "output_type": "execute_result"
    }
   ],
   "source": [
    "X_test[0].split('.')"
   ]
  },
  {
   "cell_type": "code",
   "execution_count": 13,
   "metadata": {},
   "outputs": [],
   "source": [
    "os.makedirs('extract_one/train/images')\n",
    "os.makedirs('extract_one/train/labels')\n",
    "\n",
    "for x in X_train:\n",
    "    x_src_path = osp.join(X_train_path, x)\n",
    "    y = x.split('.')[0]+'.txt'\n",
    "    y_src_path = osp.join('splited', 'train', 'labels', y)\n",
    "    \n",
    "    copyfile(x_src_path, osp.join('extract_one/train/images', x))\n",
    "    copyfile(y_src_path, osp.join('extract_one/train/labels', y))"
   ]
  },
  {
   "cell_type": "code",
   "execution_count": 14,
   "metadata": {},
   "outputs": [],
   "source": [
    "os.makedirs('extract_one/test/images')\n",
    "os.makedirs('extract_one/test/labels')\n",
    "\n",
    "for x in X_test:\n",
    "    x_src_path = osp.join(X_test_path, x)\n",
    "    y = x.split('.')[0]+'.txt'\n",
    "    y_src_path = osp.join('splited', 'test', 'labels', y)\n",
    "    \n",
    "    copyfile(x_src_path, osp.join('extract_one/test/images', x))\n",
    "    copyfile(y_src_path, osp.join('extract_one/test/labels', y))"
   ]
  },
  {
   "cell_type": "code",
   "execution_count": 15,
   "metadata": {},
   "outputs": [],
   "source": [
    "def yolobbox2bbox(x, y, w, h, width, height):\n",
    "    x1, y1 = x-w/2, y-h/2\n",
    "    x2, y2 = x+w/2, y+h/2\n",
    "    return x1*width, y1*height, x2*width, y2*height"
   ]
  },
  {
   "cell_type": "code",
   "execution_count": 16,
   "metadata": {},
   "outputs": [],
   "source": [
    "train_path = 'dataset/train'\n",
    "val_path = 'dataset/val'"
   ]
  },
  {
   "cell_type": "code",
   "execution_count": 21,
   "metadata": {},
   "outputs": [],
   "source": [
    "f = open('train.csv','w', newline='')\n",
    "wr = csv.writer(f)\n",
    "\n",
    "for x in X_train:\n",
    "    img_path = osp.join(train_path, 'images', x)\n",
    "    width, height = (1280, 720)\n",
    "    \n",
    "    y = x.split('.')[0] + '.txt'\n",
    "    y_src_path = osp.join('splited', 'train', 'labels', y)\n",
    "    label = open(y_src_path, 'r')\n",
    "    cls, x, y, w, h = label.readline()[:-1].split(' ')\n",
    "    x1, y1, x2, y2 = yolobbox2bbox(float(x), float(y), float(w), float(h), width, height)\n",
    "    \n",
    "    if cls == \"0\":\n",
    "        wr.writerow([img_path, x1, y1, x2, y2, \"Fire\"])\n",
    "    \n",
    "f.close()"
   ]
  },
  {
   "cell_type": "code",
   "execution_count": 22,
   "metadata": {},
   "outputs": [],
   "source": [
    "f = open('val.csv','w', newline='')\n",
    "wr = csv.writer(f)\n",
    "\n",
    "for x in X_test:\n",
    "    img_path = osp.join(val_path, 'images', x)\n",
    "    width, height = (1280, 720)\n",
    "    \n",
    "    y = x.split('.')[0] + '.txt'\n",
    "    y_src_path = osp.join('splited', 'test', 'labels', y)\n",
    "    label = open(y_src_path, 'r')\n",
    "    cls, x, y, w, h = label.readline()[:-1].split(' ')\n",
    "    x1, y1, x2, y2 = yolobbox2bbox(float(x), float(y), float(w), float(h), width, height)\n",
    "    \n",
    "    if cls == \"0\":\n",
    "        wr.writerow([img_path, x1, y1, x2, y2, \"Fire\"])\n",
    "    \n",
    "f.close()"
   ]
  },
  {
   "cell_type": "code",
   "execution_count": null,
   "metadata": {},
   "outputs": [],
   "source": []
  }
 ],
 "metadata": {
  "kernelspec": {
   "display_name": "openmmlab",
   "language": "python",
   "name": "python3"
  },
  "language_info": {
   "codemirror_mode": {
    "name": "ipython",
    "version": 3
   },
   "file_extension": ".py",
   "mimetype": "text/x-python",
   "name": "python",
   "nbconvert_exporter": "python",
   "pygments_lexer": "ipython3",
   "version": "3.8.17"
  },
  "orig_nbformat": 4
 },
 "nbformat": 4,
 "nbformat_minor": 2
}
